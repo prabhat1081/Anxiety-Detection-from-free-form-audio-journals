{
 "cells": [
  {
   "cell_type": "code",
   "execution_count": 7,
   "id": "hybrid-shuttle",
   "metadata": {},
   "outputs": [],
   "source": [
    "import fairseq\n",
    "import torch\n",
    "import os\n",
    "import glob\n",
    "from fairseq.models.wav2vec import Wav2VecModel\n",
    "from fairseq.models.roberta import RobertaModel\n",
    "import tqdm\n",
    "import librosa\n",
    "import math"
   ]
  },
  {
   "cell_type": "code",
   "execution_count": 8,
   "id": "breeding-pixel",
   "metadata": {},
   "outputs": [],
   "source": [
    "roberta_model_path = '/dfs/user/prabhat8/CS224S/models/roberta.large'\n",
    "data_path = '/dfs/user/prabhat8/CS224S/gad'"
   ]
  },
  {
   "cell_type": "code",
   "execution_count": null,
   "id": "separated-grace",
   "metadata": {},
   "outputs": [],
   "source": [
    "roberta = RobertaModel.from_pretrained(roberta_model_path, checkpoint_file='model.pt')\n",
    "roberta.eval()  # disable dropout (or leave in train mode to finetune)"
   ]
  },
  {
   "cell_type": "code",
   "execution_count": 20,
   "id": "colonial-coaching",
   "metadata": {},
   "outputs": [
    {
     "name": "stderr",
     "output_type": "stream",
     "text": [
      "100%|██████████| 2257/2257 [14:37<00:00,  2.57it/s]\n"
     ]
    }
   ],
   "source": [
    "import pickle\n",
    "with torch.no_grad():\n",
    "    for transcript_file in tqdm.tqdm(glob.glob(f\"{data_path}/transcripts/*.txt\")):\n",
    "        fname_feat = os.path.basename(transcript_file)[:-4] + \"_feat.p\"\n",
    "        fname_tok = os.path.basename(transcript_file)[:-4] + \"_tokens.p\"\n",
    "        with open(transcript_file) as f:\n",
    "            text = f.readlines()\n",
    "            if type(text) == list:\n",
    "                if text:\n",
    "                    text = text[0]\n",
    "                else:\n",
    "                    text = \"\"\n",
    "        tokens = roberta.encode(text)[:512]\n",
    "        pickle.dump(tokens, open(os.path.join(data_path, 'transcripts_tokens', fname_tok), 'wb') )\n",
    "        last_layer_features = roberta.extract_features(tokens)\n",
    "#         print(last_layer_features.shape)\n",
    "        pickle.dump(last_layer_features, open(os.path.join(data_path, 'transcripts_features', fname_feat), 'wb') )\n",
    "        "
   ]
  },
  {
   "cell_type": "code",
   "execution_count": null,
   "id": "strategic-breakdown",
   "metadata": {},
   "outputs": [],
   "source": []
  }
 ],
 "metadata": {
  "kernelspec": {
   "display_name": "cs224s",
   "language": "python",
   "name": "cs224s"
  },
  "language_info": {
   "codemirror_mode": {
    "name": "ipython",
    "version": 3
   },
   "file_extension": ".py",
   "mimetype": "text/x-python",
   "name": "python",
   "nbconvert_exporter": "python",
   "pygments_lexer": "ipython3",
   "version": "3.7.3"
  }
 },
 "nbformat": 4,
 "nbformat_minor": 5
}
