{
 "cells": [
  {
   "cell_type": "code",
   "execution_count": 2,
   "metadata": {},
   "outputs": [],
   "source": [
    "import librosa\n",
    "import torch\n",
    "import glob\n",
    "import tqdm\n",
    "import os"
   ]
  },
  {
   "cell_type": "code",
   "execution_count": 4,
   "metadata": {},
   "outputs": [],
   "source": [
    "data_path = '/dfs/user/prabhat8/CS224S/gad'"
   ]
  },
  {
   "cell_type": "code",
   "execution_count": 21,
   "metadata": {},
   "outputs": [
    {
     "name": "stderr",
     "output_type": "stream",
     "text": [
      "100%|██████████| 2257/2257 [00:29<00:00, 76.59it/s] \n"
     ]
    }
   ],
   "source": [
    "lengths = []\n",
    "for wav in tqdm.tqdm(glob.glob(f\"{data_path}/*.wav\")):\n",
    "    lengths.append(librosa.get_duration(filename=wav))"
   ]
  },
  {
   "cell_type": "code",
   "execution_count": 28,
   "metadata": {},
   "outputs": [
    {
     "data": {
      "image/png": "[encoded data removed]",
      "text/plain": [
       "<Figure size 432x288 with 1 Axes>"
      ]
     },
     "metadata": {
      "needs_background": "light"
     },
     "output_type": "display_data"
    }
   ],
   "source": [
    "import matplotlib.pyplot as plt\n",
    "import numpy as np\n",
    "l = np.array(lengths)\n",
    "l = l[l <=200]\n",
    "plt.hist(l)\n",
    "plt.xlabel('Duration in seconds')\n",
    "plt.ylabel('Frequency')\n",
    "plt.savefig('duration.pdf')\n",
    "# plt.xlim((-1, 200))"
   ]
  },
  {
   "cell_type": "code",
   "execution_count": 3,
   "metadata": {},
   "outputs": [
    {
     "name": "stderr",
     "output_type": "stream",
     "text": [
      "100%|██████████| 2257/2257 [00:00<00:00, 100097.75it/s]\n"
     ]
    }
   ],
   "source": [
    "\n",
    "from transformers import Wav2Vec2Tokenizer, Wav2Vec2ForCTC\n",
    "\n",
    "# load pretrained model\n",
    "tokenizer = Wav2Vec2Tokenizer.from_pretrained(\"facebook/wav2vec2-base-960h\")\n",
    "model = Wav2Vec2ForCTC.from_pretrained(\"facebook/wav2vec2-base-960h\")\n",
    "model = model\n",
    "wav2transcript = {}\n",
    "for wav in tqdm.tqdm(glob.glob(f\"{data_path}/*.wav\")):\n",
    "    fname = os.path.basename(wav)[:-4] + \".txt\"\n",
    "    if os.path.exists(os.path.join(data_path, 'transcripts', fname)):\n",
    "        continue\n",
    "    # load audio\n",
    "    audio_input, sr = librosa.load(wav, sr=16000)\n",
    "    try:\n",
    "        input_values = tokenizer(audio_input, return_tensors=\"pt\", padding=\"longest\").input_values\n",
    "        if len(audio_input) > 16000*2*60:\n",
    "            vals = torch.chunk(input_values, len(audio_input) // (16000*2*60) + 1, dim=-1)\n",
    "            print(len(vals))\n",
    "        else:\n",
    "            vals = [input_values]\n",
    "        transcription = ''\n",
    "        for input_val in vals:\n",
    "            logits = model(input_val).logits\n",
    "            predicted_ids = torch.argmax(logits, dim=-1)\n",
    "            transcription += tokenizer.batch_decode(predicted_ids)[0]\n",
    "        print(transcription, wav)\n",
    "        with open(os.path.join(data_path, 'transcripts', fname), 'w') as f:\n",
    "            f.write(transcription)\n",
    "    except Exception as e:\n",
    "        print(e, wav, len(audio_input))"
   ]
  },
  {
   "cell_type": "code",
   "execution_count": 5,
   "metadata": {},
   "outputs": [],
   "source": [
    "paths = glob.glob(f\"{data_path}/transcripts/*.txt\")"
   ]
  },
  {
   "cell_type": "code",
   "execution_count": 19,
   "metadata": {},
   "outputs": [
    {
     "data": {
      "text/plain": [
       "\"I feel eh but lest less and demotivated there's lot of work that i need to do and i folting the ent on my responsibility is at work sometimes i think in my personal life as well is also just general diredness i feel like have got enough sleep or haven't got nough exercise so just feeling bored and dem otivated o\""
      ]
     },
     "execution_count": 19,
     "metadata": {},
     "output_type": "execute_result"
    }
   ],
   "source": [
    "import random\n",
    "path = random.choice(paths)\n",
    "with open(os.path.join(path)) as f:\n",
    "    s = f.readlines()[0]\n",
    "s.capitalize()"
   ]
  },
  {
   "cell_type": "code",
   "execution_count": 17,
   "metadata": {},
   "outputs": [],
   "source": [
    "from transformers import AutoTokenizer, AutoModelWithLMHead\n",
    "\n",
    "tokenizer = AutoTokenizer.from_pretrained(\"mrm8488/t5-base-finetuned-emotion\")\n",
    "\n",
    "model = AutoModelWithLMHead.from_pretrained(\"mrm8488/t5-base-finetuned-emotion\")\n"
   ]
  },
  {
   "cell_type": "code",
   "execution_count": 15,
   "metadata": {},
   "outputs": [],
   "source": [
    "def get_emotion(text):\n",
    "    input_ids = tokenizer.encode(text + '</s>', return_tensors='pt')\n",
    "\n",
    "    output = model.generate(input_ids=input_ids,\n",
    "               max_length=5)\n",
    "\n",
    "    dec = [tokenizer.decode(ids) for ids in output]\n",
    "    label = dec[0]\n",
    "    return label"
   ]
  },
  {
   "cell_type": "code",
   "execution_count": 16,
   "metadata": {},
   "outputs": [
    {
     "data": {
      "text/plain": [
       "'<pad> sadness</s>'"
      ]
     },
     "execution_count": 16,
     "metadata": {},
     "output_type": "execute_result"
    }
   ],
   "source": [
    "get_emotion(\"i have a feeling i kinda lost my best friend\")"
   ]
  },
  {
   "cell_type": "code",
   "execution_count": 17,
   "metadata": {},
   "outputs": [
    {
     "data": {
      "text/plain": [
       "'<pad> joy</s>'"
      ]
     },
     "execution_count": 17,
     "metadata": {},
     "output_type": "execute_result"
    }
   ],
   "source": [
    "get_emotion(\"i feel as if i havent blogged in ages are at least truly blogged i am doing an update cute\")"
   ]
  },
  {
   "cell_type": "code",
   "execution_count": 31,
   "metadata": {},
   "outputs": [],
   "source": [
    "data_path = '/dfs/user/prabhat8/CS224S/gad'\n",
    "t2emotion = {}\n",
    "for t in os.listdir(os.path.join(data_path, 'transcripts')):\n",
    "    with open(os.path.join(data_path, 'transcripts', t)) as f:\n",
    "        text = f.readlines()\n",
    "#         print(text)\n",
    "    if len(text) == 0:\n",
    "        continue\n",
    "    e = get_emotion(text[0])\n",
    "    try:\n",
    "        t2emotion[t] = e[5:-4].strip()\n",
    "    except:\n",
    "        print(e)"
   ]
  },
  {
   "cell_type": "code",
   "execution_count": 35,
   "metadata": {},
   "outputs": [],
   "source": [
    "import pickle\n",
    "with open('/dfs/user/prabhat8/CS224S/emotion.pkl', 'wb') as f:\n",
    "    pickle.dump(t2emotion, f)"
   ]
  },
  {
   "cell_type": "code",
   "execution_count": 36,
   "metadata": {},
   "outputs": [
    {
     "data": {
      "text/plain": [
       "'<pad> negative</s>'"
      ]
     },
     "execution_count": 36,
     "metadata": {},
     "output_type": "execute_result"
    }
   ],
   "source": [
    "from transformers import AutoTokenizer, AutoModelWithLMHead\n",
    "\n",
    "tokenizer = AutoTokenizer.from_pretrained(\"mrm8488/t5-base-finetuned-imdb-sentiment\")\n",
    "\n",
    "model = AutoModelWithLMHead.from_pretrained(\"mrm8488/t5-base-finetuned-imdb-sentiment\")\n",
    "\n",
    "def get_sentiment(text):\n",
    "    input_ids = tokenizer.encode(text + '</s>', return_tensors='pt')\n",
    "\n",
    "    output = model.generate(input_ids=input_ids,\n",
    "               max_length=5)\n",
    "\n",
    "    dec = [tokenizer.decode(ids) for ids in output]\n",
    "    label = dec[0]\n",
    "    return label\n",
    "\n",
    "get_sentiment(\"I dislike a lot that film\")"
   ]
  },
  {
   "cell_type": "code",
   "execution_count": 38,
   "metadata": {},
   "outputs": [
    {
     "name": "stderr",
     "output_type": "stream",
     "text": [
      "  0%|          | 5/2257 [00:00<05:35,  6.70it/s]Token indices sequence length is longer than the specified maximum sequence length for this model (538 > 512). Running this sequence through the model will result in indexing errors\n",
      "100%|██████████| 2257/2257 [05:51<00:00,  6.42it/s]\n"
     ]
    }
   ],
   "source": [
    "data_path = '/dfs/user/prabhat8/CS224S/gad'\n",
    "t2sentiment = {}\n",
    "for t in tqdm.tqdm(os.listdir(os.path.join(data_path, 'transcripts'))):\n",
    "    with open(os.path.join(data_path, 'transcripts', t)) as f:\n",
    "        text = f.readlines()\n",
    "#         print(text)\n",
    "    if len(text) == 0:\n",
    "        continue\n",
    "    e = get_sentiment(text[0])\n",
    "    try:\n",
    "        t2sentiment[t] = e[5:-4].strip()\n",
    "    except:\n",
    "        print(e)"
   ]
  },
  {
   "cell_type": "code",
   "execution_count": 40,
   "metadata": {},
   "outputs": [],
   "source": [
    "import pickle\n",
    "with open('/dfs/user/prabhat8/CS224S/sentiment.pkl', 'wb') as f:\n",
    "    pickle.dump(t2sentiment, f)"
   ]
  },
  {
   "cell_type": "code",
   "execution_count": 56,
   "metadata": {},
   "outputs": [
    {
     "name": "stdout",
     "output_type": "stream",
     "text": [
      "     dataset                                               user  score  \\\n",
      "0   Kintsugi                       2HIcyskm7YOYF1sYZkNr0d1pYoj2    5.0   \n",
      "1  Phonic3-2  6012ffda61fde9a427efe695questions6012ffda61fde...   10.0   \n",
      "\n",
      "   bucketed_score                                           filename  \\\n",
      "0               0                           gTqHOGwSDEirT9x8HN2T.wav   \n",
      "1               1  6012ffda61fde9a427efe695questions6012ffda61fde...   \n",
      "\n",
      "    duration  \n",
      "0  28.643356  \n",
      "1  63.146667  \n"
     ]
    },
    {
     "data": {
      "text/plain": [
       "(2257, 5)"
      ]
     },
     "execution_count": 56,
     "metadata": {},
     "output_type": "execute_result"
    }
   ],
   "source": [
    "import pandas as pd\n",
    "labels = pd.read_csv(os.path.join(data_path, 'data.csv'), header=0)\n",
    "print(labels.head(2))\n",
    "labels = labels.drop_duplicates('filename').set_index('filename')\n",
    "labels.shape"
   ]
  },
  {
   "cell_type": "code",
   "execution_count": 69,
   "metadata": {},
   "outputs": [],
   "source": [
    "labels['emotion'] = labels.index.map(lambda x: t2emotion.get(x[:-3]+'txt', 'Not Found'))\n",
    "labels['sentiment'] = labels.index.map(lambda x: t2sentiment.get(x[:-3]+'txt', 'Not Found'))"
   ]
  },
  {
   "cell_type": "code",
   "execution_count": 72,
   "metadata": {},
   "outputs": [
    {
     "data": {
      "text/plain": [
       "0    1162\n",
       "1     529\n",
       "2     335\n",
       "3     231\n",
       "Name: bucketed_score, dtype: int64"
      ]
     },
     "execution_count": 72,
     "metadata": {},
     "output_type": "execute_result"
    }
   ],
   "source": [
    "labels.bucketed_score.value_counts()"
   ]
  },
  {
   "cell_type": "code",
   "execution_count": 70,
   "metadata": {},
   "outputs": [
    {
     "data": {
      "text/plain": [
       "joy          1695\n",
       "sadness       292\n",
       "anger         144\n",
       "Not Found      69\n",
       "fear           54\n",
       "love            2\n",
       "OR              1\n",
       "Name: emotion, dtype: int64"
      ]
     },
     "execution_count": 70,
     "metadata": {},
     "output_type": "execute_result"
    }
   ],
   "source": [
    "labels.emotion.value_counts()"
   ]
  },
  {
   "cell_type": "code",
   "execution_count": 112,
   "metadata": {},
   "outputs": [],
   "source": [
    "labels['anxiety'] = labels['bucketed_score'] > 0"
   ]
  },
  {
   "cell_type": "code",
   "execution_count": 141,
   "metadata": {},
   "outputs": [
    {
     "data": {
      "image/png": "[encoded data removed]",
      "text/plain": [
       "<Figure size 360x360 with 1 Axes>"
      ]
     },
     "metadata": {
      "needs_background": "light"
     },
     "output_type": "display_data"
    }
   ],
   "source": [
    "sen_vals = ['positive', 'negative']\n",
    "import seaborn as sns\n",
    "data = labels[labels.sentiment.isin(sen_vals)].groupby(['sentiment', 'anxiety_label'])['score'].count().reset_index()\n",
    "g = sns.catplot(x=\"sentiment\", y=\"score\", hue=\"anxiety_label\", data=data, kind='bar', legend_out=False)\n",
    "# g.despine(left=True)\n",
    "plt.ylabel('Frequency')\n",
    "plt.gca().get_legend().set_title('')\n",
    "\n",
    "plt.savefig('sentiment.pdf')\n",
    "# plt.ylabel('Frequency')\n",
    "# plt.xticks([0, 1], ['No anxiety', 'Anxiety'])"
   ]
  },
  {
   "cell_type": "code",
   "execution_count": 140,
   "metadata": {},
   "outputs": [
    {
     "data": {
      "image/png": "[encoded data removed]",
      "text/plain": [
       "<Figure size 360x360 with 1 Axes>"
      ]
     },
     "metadata": {
      "needs_background": "light"
     },
     "output_type": "display_data"
    }
   ],
   "source": [
    "emo_vals = ['joy', 'sadness', 'anger', 'fear']\n",
    "import seaborn as sns\n",
    "labels['anxiety_label'] = labels['anxiety'].map(lambda x: 'Anxiety' if x else 'No anxiety')\n",
    "data = labels[labels.emotion.isin(emo_vals)].groupby(['emotion', 'anxiety_label'])['score'].count().reset_index()\n",
    "g = sns.catplot(x=\"emotion\", y=\"score\", hue=\"anxiety_label\", data=data, kind='bar', legend_out=False)\n",
    "# g.despine(left=True)\n",
    "plt.ylabel('Frequency')\n",
    "plt.gca().get_legend().set_title('')\n",
    "plt.savefig('emotion.pdf')\n",
    "#plt.xticks([0, 1], ['No anxiety', 'Anxiety'])"
   ]
  },
  {
   "cell_type": "code",
   "execution_count": 84,
   "metadata": {},
   "outputs": [],
   "source": [
    "import matplotlib.pyplot as plt\n",
    "import numpy as np\n",
    "pos = []\n",
    "neg = []\n",
    "for i in range(4):\n",
    "    pos.append((labels[labels.bucketed_score == i].sentiment == 'positive').sum())\n",
    "    neg.append((labels[labels.bucketed_score == i].sentiment == 'negative').sum())\n",
    "pos, neg = np.array(pos), np.array(neg)"
   ]
  },
  {
   "cell_type": "code",
   "execution_count": 90,
   "metadata": {},
   "outputs": [
    {
     "data": {
      "text/plain": [
       "<BarContainer object of 4 artists>"
      ]
     },
     "execution_count": 90,
     "metadata": {},
     "output_type": "execute_result"
    },
    {
     "data": {
      "image/png": "[encoded data removed]",
      "text/plain": [
       "<Figure size 432x288 with 1 Axes>"
      ]
     },
     "metadata": {
      "needs_background": "light"
     },
     "output_type": "display_data"
    }
   ],
   "source": [
    "plt.bar(list(map(str, range(4))), pos)\n",
    "plt.bar(list(map(str, range(4))), neg, bottom=pos, label='negative')"
   ]
  },
  {
   "cell_type": "code",
   "execution_count": null,
   "metadata": {},
   "outputs": [],
   "source": []
  }
 ],
 "metadata": {
  "kernelspec": {
   "display_name": "cs224s",
   "language": "python",
   "name": "cs224s"
  },
  "language_info": {
   "codemirror_mode": {
    "name": "ipython",
    "version": 3
   },
   "file_extension": ".py",
   "mimetype": "text/x-python",
   "name": "python",
   "nbconvert_exporter": "python",
   "pygments_lexer": "ipython3",
   "version": "3.7.3"
  }
 },
 "nbformat": 4,
 "nbformat_minor": 4
}
