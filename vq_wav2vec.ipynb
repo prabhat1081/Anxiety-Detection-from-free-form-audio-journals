{
 "cells": [
  {
   "cell_type": "code",
   "execution_count": 25,
   "id": "closed-insured",
   "metadata": {},
   "outputs": [],
   "source": [
    "import fairseq\n",
    "import torch\n",
    "import os\n",
    "import glob\n",
    "from fairseq.models.wav2vec import Wav2VecModel\n",
    "from fairseq.models.roberta import RobertaModel\n",
    "import tqdm\n",
    "import librosa\n",
    "import math"
   ]
  },
  {
   "cell_type": "markdown",
   "id": "boxed-capacity",
   "metadata": {},
   "source": [
    "**Audio Model**"
   ]
  },
  {
   "cell_type": "code",
   "execution_count": 26,
   "id": "designed-mixture",
   "metadata": {},
   "outputs": [],
   "source": [
    "vq_model_path = '/dfs/user/prabhat8/CS224S/models/vq-wav2vec_kmeans.pt'\n",
    "data_path = '/dfs/user/prabhat8/CS224S/gad'"
   ]
  },
  {
   "cell_type": "code",
   "execution_count": null,
   "id": "adolescent-choice",
   "metadata": {},
   "outputs": [],
   "source": [
    "cp = torch.load(vq_model_path)\n",
    "model = Wav2VecModel.build_model(cp['args'], task=None)\n",
    "model.load_state_dict(cp['model'])\n",
    "model.eval()\n",
    "\n",
    "roberta = RobertaModel.from_pretrained('/dfs/user/prabhat8/CS224S/models/', checkpoint_file='bert_kmeans.pt')\n",
    "roberta.eval()\n"
   ]
  },
  {
   "cell_type": "code",
   "execution_count": 38,
   "id": "assigned-shepherd",
   "metadata": {},
   "outputs": [],
   "source": [
    "def indices_to_string(idxs): \n",
    "        # based on fairseq/examples/wav2vec/vq-wav2vec_featurize.py\n",
    "        return \"<s>\"+\" \" +\" \".join(\"-\".join(map(str, a.tolist())) for a in idxs.squeeze(0))"
   ]
  },
  {
   "cell_type": "code",
   "execution_count": 46,
   "id": "fitted-punishment",
   "metadata": {},
   "outputs": [
    {
     "name": "stderr",
     "output_type": "stream",
     "text": [
      "100%|██████████| 2257/2257 [6:06:16<00:00,  9.74s/it]  \n"
     ]
    }
   ],
   "source": [
    "import pickle\n",
    "with torch.no_grad():\n",
    "    for wav in tqdm.tqdm(glob.glob(f\"{data_path}/*.wav\")):\n",
    "        fname = os.path.basename(wav)[:-4] + \"_tokens.txt\"\n",
    "        fname_p = os.path.basename(wav)[:-4] + \"_tokens.p\"\n",
    "        audio_input, sr = librosa.load(wav, sr=16000, res_type='kaiser_fast')\n",
    "        try:\n",
    "            wav_input_16khz = torch.tensor(audio_input).unsqueeze(0)\n",
    "#             print(wav_input_16khz.shape)\n",
    "            if len(audio_input) > 16000*60:\n",
    "                vals = torch.chunk(wav_input_16khz, round(len(audio_input) / (16000*60)), dim=-1)\n",
    "#                 if len(vals) > 1:\n",
    "#                     print(len(vals), len(audio_input) / (16000*60))\n",
    "            else:\n",
    "                vals = [wav_input_16khz]\n",
    "            z = []\n",
    "            for val in vals:\n",
    "                zi = model.feature_extractor(val)\n",
    "                z.append(zi.squeeze())\n",
    "            z = torch.cat(z, dim=-1).unsqueeze(0)\n",
    "            _, idxs = model.vector_quantizer.forward_idx(z)\n",
    "            idx_str = indices_to_string(idxs)\n",
    "            tokens = roberta.task.source_dictionary.encode_line(idx_str, append_eos=True, add_if_not_exist=False).cpu().detach().numpy()\n",
    "            pickle.dump(tokens, open(os.path.join(data_path, 'vqwav2vec_tokens', fname_p), 'wb') )\n",
    "            with open(os.path.join(data_path, 'vqwav2vec_tokens', fname), 'w') as f:\n",
    "                for item in tokens:\n",
    "                    f.write(str(item)+'\\t')\n",
    "                    \n",
    "        except Exception as e:\n",
    "            print(e, wav, len(audio_input))\n",
    "# x = model(wav_input_16khz)\n",
    "# x"
   ]
  },
  {
   "cell_type": "code",
   "execution_count": null,
   "id": "adaptive-enemy",
   "metadata": {},
   "outputs": [],
   "source": []
  },
  {
   "cell_type": "code",
   "execution_count": 66,
   "id": "indonesian-stereo",
   "metadata": {},
   "outputs": [
    {
     "name": "stderr",
     "output_type": "stream",
     "text": [
      "100%|██████████| 2257/2257 [35:30<00:00,  1.06it/s]\n"
     ]
    }
   ],
   "source": [
    "with torch.no_grad():\n",
    "    for wav_tok_file in tqdm.tqdm(glob.glob(f\"{data_path}/vqwav2vec_tokens/*.p\")):\n",
    "        fname_f = os.path.basename(wav_tok_file)[:-9] + \"_feat.p\"\n",
    "        wav_tokens = pickle.load( open( wav_tok_file, \"rb\" ) )\n",
    "        wav_tokens_inp = torch.Tensor(wav_tokens)[:2048].type(torch.LongTensor)\n",
    "        feats = roberta.extract_features(wav_tokens_inp)\n",
    "        pickle.dump(feats, open(os.path.join(data_path, 'vqwav2vec_features', fname_f), 'wb') )"
   ]
  },
  {
   "cell_type": "markdown",
   "id": "forced-colors",
   "metadata": {},
   "source": [
    "**Text Model**"
   ]
  },
  {
   "cell_type": "code",
   "execution_count": null,
   "id": "norwegian-glucose",
   "metadata": {},
   "outputs": [],
   "source": [
    "roberta_model_path = '/dfs/user/prabhat8/CS224S/models/roberta.large'\n",
    "roberta = RobertaModel.from_pretrained(roberta_model_path, checkpoint_file='model.pt')\n",
    "roberta.eval()  # disable dropout (or leave in train mode to finetune)"
   ]
  },
  {
   "cell_type": "code",
   "execution_count": null,
   "id": "elder-vector",
   "metadata": {},
   "outputs": [],
   "source": [
    "import pickle\n",
    "with torch.no_grad():\n",
    "    for transcript_file in tqdm.tqdm(glob.glob(f\"{data_path}/transcripts/*.txt\")):\n",
    "        fname_feat = os.path.basename(transcript_file)[:-4] + \"_feat.p\"\n",
    "        fname_tok = os.path.basename(transcript_file)[:-4] + \"_tokens.p\"\n",
    "        with open(transcript_file) as f:\n",
    "            text = f.readlines()\n",
    "            if type(text) == list:\n",
    "                if text:\n",
    "                    text = text[0]\n",
    "                else:\n",
    "                    text = \"\"\n",
    "        tokens = roberta.encode(text)[:512]\n",
    "        pickle.dump(tokens, open(os.path.join(data_path, 'transcripts_tokens', fname_tok), 'wb') )\n",
    "        last_layer_features = roberta.extract_features(tokens)\n",
    "#         print(last_layer_features.shape)\n",
    "        pickle.dump(last_layer_features, open(os.path.join(data_path, 'transcripts_features', fname_feat), 'wb') )\n",
    "        "
   ]
  },
  {
   "cell_type": "markdown",
   "id": "planned-beaver",
   "metadata": {},
   "source": [
    "**Combined model**"
   ]
  },
  {
   "cell_type": "code",
   "execution_count": 93,
   "id": "conventional-fusion",
   "metadata": {},
   "outputs": [
    {
     "name": "stderr",
     "output_type": "stream",
     "text": [
      "100%|██████████| 2257/2257 [00:20<00:00, 107.86it/s]\n",
      "100%|██████████| 2257/2257 [00:03<00:00, 644.12it/s]\n"
     ]
    }
   ],
   "source": [
    "audio_feat = {}\n",
    "text_feat = {}\n",
    "with torch.no_grad():\n",
    "    for audio_feat_file in tqdm.tqdm(glob.glob(f\"{data_path}/vqwav2vec_features/*.p\")):\n",
    "        fname = os.path.basename(audio_feat_file)[:-7] + \".wav\"\n",
    "        ft = pickle.load( open( audio_feat_file, \"rb\" ) )\n",
    "        audio_feat[fname] = ft[0][0] #CLS\n",
    "    for text_feat_file in tqdm.tqdm(glob.glob(f\"{data_path}/transcripts_features/*.p\")):\n",
    "        fname = os.path.basename(text_feat_file)[:-7] + \".wav\"\n",
    "        ft = pickle.load( open( text_feat_file, \"rb\" ) )\n",
    "        text_feat[fname] = ft[0][0] #CLS"
   ]
  },
  {
   "cell_type": "code",
   "execution_count": 94,
   "id": "dominant-basics",
   "metadata": {},
   "outputs": [],
   "source": [
    "combined_feat = {}\n",
    "for key,val in audio_feat.items():\n",
    "    ft = torch.cat((val, text_feat[key]))\n",
    "    combined_feat[key] = ft"
   ]
  },
  {
   "cell_type": "code",
   "execution_count": 95,
   "id": "solid-mercy",
   "metadata": {},
   "outputs": [],
   "source": [
    "import pandas as pd\n",
    "labels = pd.read_csv(os.path.join(data_path, 'data.csv'))\n",
    "labels = labels.drop_duplicates('filename').set_index('filename')\n",
    "\n",
    "labels['feats_audio'] = labels.index.map(lambda x: audio_feat[x])\n",
    "labels['feats_text'] = labels.index.map(lambda x: text_feat[x])\n",
    "labels['feats_combi'] = labels.index.map(lambda x: combined_feat[x])\n",
    "labels['anxiety'] = labels['bucketed_score'] > 0"
   ]
  },
  {
   "cell_type": "code",
   "execution_count": 96,
   "id": "fallen-choice",
   "metadata": {},
   "outputs": [
    {
     "data": {
      "text/plain": [
       "torch.Size([1792])"
      ]
     },
     "execution_count": 96,
     "metadata": {},
     "output_type": "execute_result"
    }
   ],
   "source": [
    "labels['feats_combi'].iloc[0].shape"
   ]
  },
  {
   "cell_type": "code",
   "execution_count": 99,
   "id": "moderate-relevance",
   "metadata": {},
   "outputs": [
    {
     "data": {
      "text/plain": [
       "((2257, 1792), (2257,))"
      ]
     },
     "execution_count": 99,
     "metadata": {},
     "output_type": "execute_result"
    }
   ],
   "source": [
    "import numpy as np\n",
    "feats, y = np.stack(labels.feats_combi.values), labels['anxiety']\n",
    "feats.shape, y.shape"
   ]
  },
  {
   "cell_type": "code",
   "execution_count": 113,
   "id": "rental-arbitration",
   "metadata": {},
   "outputs": [],
   "source": [
    "from sklearn.model_selection import train_test_split\n",
    "from sklearn.svm import SVC\n",
    "from sklearn.linear_model import LogisticRegression\n",
    "from sklearn.pipeline import make_pipeline\n",
    "from sklearn.preprocessing import StandardScaler\n",
    "from sklearn.gaussian_process import GaussianProcessClassifier\n",
    "from sklearn.gaussian_process.kernels import RBF\n",
    "from sklearn.tree import DecisionTreeClassifier\n",
    "from sklearn.ensemble import RandomForestClassifier, AdaBoostClassifier\n",
    "from sklearn.naive_bayes import GaussianNB\n",
    "from sklearn.discriminant_analysis import QuadraticDiscriminantAnalysis"
   ]
  },
  {
   "cell_type": "code",
   "execution_count": 101,
   "id": "subsequent-laundry",
   "metadata": {},
   "outputs": [],
   "source": [
    "train_idx, test_idx = train_test_split(np.arange(len(feats)), test_size=0.15, random_state=24)\n",
    "train_idx, valid_idx = train_test_split(train_idx, test_size=0.15, random_state=24)"
   ]
  },
  {
   "cell_type": "code",
   "execution_count": 102,
   "id": "strange-luther",
   "metadata": {},
   "outputs": [
    {
     "data": {
      "text/plain": [
       "train    1630\n",
       "test      339\n",
       "valid     288\n",
       "Name: split, dtype: int64"
      ]
     },
     "execution_count": 102,
     "metadata": {},
     "output_type": "execute_result"
    }
   ],
   "source": [
    "split = [\"\"]*len(feats)\n",
    "for i in train_idx:\n",
    "    split[i] = 'train'\n",
    "for i in valid_idx:\n",
    "    split[i] = 'valid'\n",
    "for i in test_idx:\n",
    "    split[i] = 'test'\n",
    "    \n",
    "labels['split'] = split\n",
    "labels.split.value_counts()"
   ]
  },
  {
   "cell_type": "code",
   "execution_count": 103,
   "id": "classical-theater",
   "metadata": {},
   "outputs": [
    {
     "data": {
      "text/plain": [
       "Index(['dataset', 'user', 'score', 'bucketed_score', 'duration', 'feats_audio',\n",
       "       'feats_text', 'feats_combi', 'anxiety', 'split'],\n",
       "      dtype='object')"
      ]
     },
     "execution_count": 103,
     "metadata": {},
     "output_type": "execute_result"
    }
   ],
   "source": [
    "labels.columns"
   ]
  },
  {
   "cell_type": "code",
   "execution_count": 104,
   "id": "french-segment",
   "metadata": {},
   "outputs": [],
   "source": [
    "labels[['dataset', 'user', 'score', 'bucketed_score', 'duration', 'anxiety', 'split']].to_pickle(os.path.join(data_path, 'data_split_vqwav2vec.pkl'))"
   ]
  },
  {
   "cell_type": "code",
   "execution_count": 105,
   "id": "complete-piece",
   "metadata": {},
   "outputs": [],
   "source": [
    "X_train, y_train = np.stack(labels[labels.split == 'train'].feats_combi.values), labels[labels.split == 'train']['anxiety']\n",
    "X_valid, y_valid = np.stack(labels[labels.split == 'valid'].feats_combi.values), labels[labels.split == 'valid']['anxiety']\n",
    "X_test, y_test = np.stack(labels[labels.split == 'test'].feats_combi.values), labels[labels.split == 'test']['anxiety']"
   ]
  },
  {
   "cell_type": "code",
   "execution_count": 106,
   "id": "geological-developer",
   "metadata": {},
   "outputs": [
    {
     "name": "stdout",
     "output_type": "stream",
     "text": [
      "1630 288 339\n"
     ]
    }
   ],
   "source": [
    "print(len(X_train), len(X_valid), len(X_test))"
   ]
  },
  {
   "cell_type": "code",
   "execution_count": 107,
   "id": "surgical-cyprus",
   "metadata": {},
   "outputs": [],
   "source": [
    "from sklearn.metrics import roc_auc_score\n",
    "def analyze_clf(clf, y_prob=None):\n",
    "    if y_prob is None:\n",
    "        clf = clf.fit(X_train, y_train) \n",
    "        y_pred = clf.predict(X_valid)\n",
    "        if not hasattr(clf, 'predict_proba'):\n",
    "            y_prob = clf.decision_function(X_valid)\n",
    "        else:\n",
    "            y_prob = clf.predict_proba(X_valid)[:, 1]\n",
    "    else:\n",
    "        y_pred = y_prob > 0.5\n",
    "    print(y_pred.shape)\n",
    "    from sklearn.metrics import confusion_matrix,  classification_report\n",
    "    y_true = y_valid\n",
    "    print(confusion_matrix(y_true, y_pred))\n",
    "    print(classification_report(y_true, y_pred))\n",
    "    print(roc_auc_score(y_true=y_true, y_score=y_prob))"
   ]
  },
  {
   "cell_type": "code",
   "execution_count": 108,
   "id": "ethical-external",
   "metadata": {},
   "outputs": [
    {
     "name": "stdout",
     "output_type": "stream",
     "text": [
      "(288,)\n",
      "[[78 71]\n",
      " [76 63]]\n",
      "              precision    recall  f1-score   support\n",
      "\n",
      "       False       0.51      0.52      0.51       149\n",
      "        True       0.47      0.45      0.46       139\n",
      "\n",
      "    accuracy                           0.49       288\n",
      "   macro avg       0.49      0.49      0.49       288\n",
      "weighted avg       0.49      0.49      0.49       288\n",
      "\n",
      "0.5\n"
     ]
    }
   ],
   "source": [
    "from sklearn.dummy import DummyClassifier\n",
    "dummy_clf = DummyClassifier(strategy=\"uniform\")\n",
    "analyze_clf(dummy_clf)\n"
   ]
  },
  {
   "cell_type": "code",
   "execution_count": 109,
   "id": "significant-notion",
   "metadata": {},
   "outputs": [
    {
     "name": "stdout",
     "output_type": "stream",
     "text": [
      "(288,)\n",
      "[[89 60]\n",
      " [57 82]]\n",
      "              precision    recall  f1-score   support\n",
      "\n",
      "       False       0.61      0.60      0.60       149\n",
      "        True       0.58      0.59      0.58       139\n",
      "\n",
      "    accuracy                           0.59       288\n",
      "   macro avg       0.59      0.59      0.59       288\n",
      "weighted avg       0.59      0.59      0.59       288\n",
      "\n",
      "0.6356525517840761\n"
     ]
    }
   ],
   "source": [
    "clf = make_pipeline(StandardScaler(), LogisticRegression(random_state=0, max_iter=300, penalty='l1', solver='liblinear'))\n",
    "analyze_clf(clf)"
   ]
  },
  {
   "cell_type": "code",
   "execution_count": 133,
   "id": "musical-contrast",
   "metadata": {},
   "outputs": [
    {
     "name": "stdout",
     "output_type": "stream",
     "text": [
      "(288,)\n",
      "[[89 60]\n",
      " [52 87]]\n",
      "              precision    recall  f1-score   support\n",
      "\n",
      "       False       0.63      0.60      0.61       149\n",
      "        True       0.59      0.63      0.61       139\n",
      "\n",
      "    accuracy                           0.61       288\n",
      "   macro avg       0.61      0.61      0.61       288\n",
      "weighted avg       0.61      0.61      0.61       288\n",
      "\n",
      "0.6440056008884167\n"
     ]
    }
   ],
   "source": [
    "clf = make_pipeline(StandardScaler(), LogisticRegression(random_state=1, max_iter=1500))\n",
    "analyze_clf(clf)"
   ]
  },
  {
   "cell_type": "code",
   "execution_count": 126,
   "id": "medium-failing",
   "metadata": {},
   "outputs": [
    {
     "name": "stdout",
     "output_type": "stream",
     "text": [
      "(288,)\n",
      "[[95 54]\n",
      " [55 84]]\n",
      "              precision    recall  f1-score   support\n",
      "\n",
      "       False       0.63      0.64      0.64       149\n",
      "        True       0.61      0.60      0.61       139\n",
      "\n",
      "    accuracy                           0.62       288\n",
      "   macro avg       0.62      0.62      0.62       288\n",
      "weighted avg       0.62      0.62      0.62       288\n",
      "\n",
      "0.679059437014147\n"
     ]
    }
   ],
   "source": [
    "clf = make_pipeline(StandardScaler(), SVC(C=10))\n",
    "analyze_clf(clf)"
   ]
  },
  {
   "cell_type": "code",
   "execution_count": 135,
   "id": "changed-slope",
   "metadata": {},
   "outputs": [
    {
     "name": "stdout",
     "output_type": "stream",
     "text": [
      "[[120  53]\n",
      " [ 80  86]]\n",
      "              precision    recall  f1-score   support\n",
      "\n",
      "       False       0.60      0.69      0.64       173\n",
      "        True       0.62      0.52      0.56       166\n",
      "\n",
      "    accuracy                           0.61       339\n",
      "   macro avg       0.61      0.61      0.60       339\n",
      "weighted avg       0.61      0.61      0.60       339\n",
      "\n",
      "0.6647050630266731\n"
     ]
    }
   ],
   "source": [
    "from sklearn.metrics import confusion_matrix,  classification_report\n",
    "clf = make_pipeline(StandardScaler(), SVC(C=10))\n",
    "clf.fit(np.concatenate([X_train, X_valid]), np.concatenate([y_train, y_valid]))\n",
    "y_true = y_test\n",
    "y_pred = clf.predict(X_test)\n",
    "y_prob = clf.decision_function(X_test)\n",
    "print(confusion_matrix(y_true, y_pred))\n",
    "print(classification_report(y_true, y_pred))\n",
    "print(roc_auc_score(y_true=y_true, y_score=y_prob))"
   ]
  },
  {
   "cell_type": "code",
   "execution_count": 130,
   "id": "regular-fraud",
   "metadata": {},
   "outputs": [
    {
     "data": {
      "image/png": "[encoded data removed]",
      "text/plain": [
       "<Figure size 432x288 with 1 Axes>"
      ]
     },
     "metadata": {
      "needs_background": "light"
     },
     "output_type": "display_data"
    },
    {
     "data": {
      "image/png": "[encoded data removed]",
      "text/plain": [
       "<Figure size 432x288 with 1 Axes>"
      ]
     },
     "metadata": {
      "needs_background": "light"
     },
     "output_type": "display_data"
    }
   ],
   "source": [
    "import matplotlib.pyplot as plt\n",
    "import IPython\n",
    "from sklearn import datasets, metrics, model_selection, svm\n",
    "metrics.plot_roc_curve(clf, X_test, y_test, pos_label=None, name='')  \n",
    "plt.xlabel('False Positive Rate')\n",
    "plt.ylabel('True Positive Rate')\n",
    "plt.savefig('roc_curve.pdf')\n",
    "metrics.plot_precision_recall_curve(clf, X_test, y_test, pos_label=None, name='')  \n",
    "plt.xlabel('Recall')\n",
    "plt.ylabel('Precision')\n",
    "plt.savefig('prc_curve.pdf')"
   ]
  },
  {
   "cell_type": "code",
   "execution_count": null,
   "id": "important-melbourne",
   "metadata": {},
   "outputs": [],
   "source": []
  }
 ],
 "metadata": {
  "kernelspec": {
   "display_name": "cs224s",
   "language": "python",
   "name": "cs224s"
  },
  "language_info": {
   "codemirror_mode": {
    "name": "ipython",
    "version": 3
   },
   "file_extension": ".py",
   "mimetype": "text/x-python",
   "name": "python",
   "nbconvert_exporter": "python",
   "pygments_lexer": "ipython3",
   "version": "3.7.3"
  }
 },
 "nbformat": 4,
 "nbformat_minor": 5
}
